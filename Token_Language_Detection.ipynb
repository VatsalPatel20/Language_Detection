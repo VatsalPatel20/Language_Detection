{
 "cells": [
  {
   "cell_type": "code",
   "execution_count": 1,
   "id": "c0a0e96f",
   "metadata": {},
   "outputs": [],
   "source": [
    "#we are taking few topics from wikipedia which will help us to make rich vocabulary in particular language with web scrapping\n",
    "max_letters = 12\n",
    "language_tags = {\n",
    "\n",
    "                'en':['actor', 'cheque', 'cancer', 'chocolate', 'debate', 'hobby', 'melon', 'propaganda',\n",
    "                      'religion', 'violin', 'england', 'MediaWiki'],\n",
    "                'es':['Licencia','Derecho','Sociología','Interpretación','Mente','Psicología','Deseo','Placer'],\n",
    "\n",
    "                'fr': ['Français', 'Langues_romanes', 'Charlemagne', 'Traité_de_Verdun', 'Louis_le_Pieux',\n",
    "                    'Son_(physique)', 'Zoologie', 'Intelligence_animale', 'Intelligence', 'Tautologie',\n",
    "                    'Pléonasme', 'Figure_de_style']\n",
    "\n",
    "                 }"
   ]
  },
  {
   "cell_type": "code",
   "execution_count": 2,
   "id": "951a0124",
   "metadata": {},
   "outputs": [],
   "source": [
    "import re\n",
    "import wikipedia as wiki\n",
    "from unidecode import unidecode\n",
    "\n",
    "#this model will perform web-scrapping and return list of words from different language\n",
    "def GENERATION(tag, max_word_length):\n",
    "    wiki.set_lang(tag)\n",
    "    for topic in language_tags[tag]:\n",
    "        page = wiki.WikipediaPage(topic)\n",
    "        content = page.content\n",
    "        content = unidecode(content)\n",
    "        lst = CLEANING(content, max_word_length)\n",
    "    return lst"
   ]
  },
  {
   "cell_type": "code",
   "execution_count": 3,
   "id": "3ec8e998",
   "metadata": {},
   "outputs": [],
   "source": [
    "#this model will clean all text\n",
    "def CLEANING(page_content, max_word_length):\n",
    "    words = re.sub(r'[^a-zA-Z ]', '', page_content)\n",
    "    lower = words.lower()\n",
    "    word_list = lower.split()\n",
    "    short_words = []\n",
    "    for word in word_list:\n",
    "        if len(word) <= max_word_length:\n",
    "            short_words.append(word)\n",
    "    return short_words"
   ]
  },
  {
   "cell_type": "code",
   "execution_count": 4,
   "id": "0b4ee487",
   "metadata": {},
   "outputs": [],
   "source": [
    "#this model will return vector format of the every single words in the form of binary(0&1)\n",
    "def VECTORIZATION(dic, max_word_length):\n",
    "    new_list = []\n",
    "    for word in dic:\n",
    "        vec = ''\n",
    "        n = len(word)\n",
    "        for i in range(n):\n",
    "            current_letter = word[i]\n",
    "            ind = ord(current_letter)-97\n",
    "            placeholder = (str(0)*ind) + str(1) + str(0)*(25-ind)\n",
    "            vec = vec + placeholder\n",
    "        if n < max_word_length:\n",
    "            excess = max_word_length-n\n",
    "            vec = vec +str(0)*26*excess\n",
    "        new_list.append(vec)\n",
    "    print(len(new_list))\n",
    "    return new_list"
   ]
  },
  {
   "cell_type": "code",
   "execution_count": 5,
   "id": "09844855",
   "metadata": {},
   "outputs": [],
   "source": [
    "def VECTOR_LABELS(tag_index, number_of_languages):\n",
    "    out = str(0)*tag_index + str(1) + str(0)*(number_of_languages-1-tag_index)\n",
    "    return out"
   ]
  },
  {
   "cell_type": "code",
   "execution_count": 6,
   "id": "76dbe3c6",
   "metadata": {},
   "outputs": [],
   "source": [
    "import numpy as np\n",
    "import pandas as pd"
   ]
  },
  {
   "cell_type": "code",
   "execution_count": 7,
   "id": "b868ac0f",
   "metadata": {},
   "outputs": [
    {
     "name": "stdout",
     "output_type": "stream",
     "text": [
      "generating dictionary for en\n",
      "6427\n",
      "generating dictionary for es\n",
      "4221\n",
      "generating dictionary for fr\n",
      "12514\n"
     ]
    }
   ],
   "source": [
    "#upcoming code will help us to generate vectors of array that we will feed inside neural network model\n",
    "word_data = []\n",
    "language_data = []\n",
    "master_dic = []\n",
    "count = 0\n",
    "for tag in language_tags.keys():\n",
    "    print('generating dictionary for ' + tag)\n",
    "    dic = GENERATION(tag, max_letters)\n",
    "    for word in dic:\n",
    "        master_dic.append(word)\n",
    "    vct = VECTORIZATION(dic, max_letters)\n",
    "    for vector in vct:\n",
    "        word_data.append(vector)\n",
    "    output_vct =VECTOR_LABELS(count, len(language_tags))\n",
    "    for i in range(len(vct)):\n",
    "        language_data.append(output_vct)\n",
    "    count += 1"
   ]
  },
  {
   "cell_type": "code",
   "execution_count": 8,
   "id": "cb0eea5c",
   "metadata": {},
   "outputs": [],
   "source": [
    "arr = []\n",
    "for i in range(len(word_data)):\n",
    "    entry = []\n",
    "    entry.append(master_dic[i])\n",
    "    for digit in language_data[i]:\n",
    "        entry.append(float(digit))\n",
    "    for digit in word_data[i]:\n",
    "        entry.append(float(digit))\n",
    "    arr.append(entry)\n",
    "arr = np.array(arr)\n",
    "#np.save('arr.npy', arr)\n",
    "df=pd.DataFrame(arr)\n",
    "#df.to_csv('data.csv')"
   ]
  },
  {
   "cell_type": "code",
   "execution_count": 9,
   "id": "59e23953",
   "metadata": {},
   "outputs": [
    {
     "data": {
      "text/plain": [
       "array([['mediawiki', '1.0', '0.0', ..., '0.0', '0.0', '0.0'],\n",
       "       ['is', '1.0', '0.0', ..., '0.0', '0.0', '0.0'],\n",
       "       ['a', '1.0', '0.0', ..., '0.0', '0.0', '0.0'],\n",
       "       ...,\n",
       "       ['de', '0.0', '0.0', ..., '0.0', '0.0', '0.0'],\n",
       "       ['la', '0.0', '0.0', ..., '0.0', '0.0', '0.0'],\n",
       "       ['poesie', '0.0', '0.0', ..., '0.0', '0.0', '0.0']], dtype='<U32')"
      ]
     },
     "execution_count": 9,
     "metadata": {},
     "output_type": "execute_result"
    }
   ],
   "source": [
    "arr"
   ]
  },
  {
   "cell_type": "code",
   "execution_count": 10,
   "id": "5cd6d93d",
   "metadata": {},
   "outputs": [
    {
     "name": "stderr",
     "output_type": "stream",
     "text": [
      "2022-10-29 20:14:35.328488: I tensorflow/core/platform/cpu_feature_guard.cc:193] This TensorFlow binary is optimized with oneAPI Deep Neural Network Library (oneDNN) to use the following CPU instructions in performance-critical operations:  AVX2 FMA\n",
      "To enable them in other operations, rebuild TensorFlow with the appropriate compiler flags.\n"
     ]
    }
   ],
   "source": [
    "from keras.models import Sequential\n",
    "from keras.layers import Dense\n",
    "from keras.callbacks import ModelCheckpoint, TensorBoard\n",
    "from sklearn.model_selection import train_test_split"
   ]
  },
  {
   "cell_type": "code",
   "execution_count": 11,
   "id": "564ddd2e",
   "metadata": {},
   "outputs": [
    {
     "name": "stdout",
     "output_type": "stream",
     "text": [
      "(3475, 312)\n",
      "(3475, 3)\n",
      "(19687, 312)\n",
      "(19687, 3)\n"
     ]
    }
   ],
   "source": [
    "inputs = arr[:, 1+len(language_tags):]\n",
    "labels = arr[:, 1:1+len(language_tags)]\n",
    "x_train, x_test, y_train, y_test = train_test_split(inputs, labels, test_size=0.15)\n",
    "\n",
    "print(x_test.shape)\n",
    "print(y_test.shape)\n",
    "print(x_train.shape)\n",
    "print(y_train.shape)\n"
   ]
  },
  {
   "cell_type": "code",
   "execution_count": 12,
   "id": "bba73bd2",
   "metadata": {},
   "outputs": [],
   "source": [
    "y_test=y_test.astype(np.float32)\n",
    "y_train=y_train.astype(np.float32)\n",
    "x_test=x_test.astype(np.float32)\n",
    "x_train=x_train.astype(np.float32)"
   ]
  },
  {
   "cell_type": "code",
   "execution_count": 13,
   "id": "ff76e166",
   "metadata": {},
   "outputs": [
    {
     "name": "stderr",
     "output_type": "stream",
     "text": [
      "2022-10-29 20:15:02.834925: I tensorflow/core/platform/cpu_feature_guard.cc:193] This TensorFlow binary is optimized with oneAPI Deep Neural Network Library (oneDNN) to use the following CPU instructions in performance-critical operations:  AVX2 FMA\n",
      "To enable them in other operations, rebuild TensorFlow with the appropriate compiler flags.\n"
     ]
    }
   ],
   "source": [
    "network = Sequential()\n",
    "network.add(Dense(200, input_dim=26*max_letters, activation='sigmoid'))\n",
    "network.add(Dense(150, activation='sigmoid'))\n",
    "network.add(Dense(100, activation='sigmoid'))\n",
    "network.add(Dense(100, activation='sigmoid'))\n",
    "network.add(Dense(len(language_tags), activation='softmax'))\n",
    "\n",
    "network.compile(loss='binary_crossentropy', optimizer='adam', metrics=['accuracy'])"
   ]
  },
  {
   "cell_type": "code",
   "execution_count": 14,
   "id": "105250bd",
   "metadata": {},
   "outputs": [
    {
     "data": {
      "text/plain": [
       "array([0., 0., 0., 0., 0., 0., 0., 0., 0., 0., 0., 0., 0., 0., 0., 0., 0.,\n",
       "       0., 0., 1., 0., 0., 0., 0., 0., 0., 0., 0., 0., 0., 1., 0., 0., 0.,\n",
       "       0., 0., 0., 0., 0., 0., 0., 0., 0., 0., 0., 0., 0., 0., 0., 0., 0.,\n",
       "       0., 0., 0., 0., 0., 0., 0., 0., 0., 0., 0., 0., 0., 1., 0., 0., 0.,\n",
       "       0., 0., 0., 0., 0., 0., 0., 0., 0., 0., 0., 0., 0., 0., 0., 0., 0.,\n",
       "       0., 0., 0., 0., 0., 0., 0., 0., 1., 0., 0., 0., 0., 0., 0., 0., 0.,\n",
       "       0., 0., 0., 0., 0., 0., 0., 0., 0., 0., 0., 0., 0., 1., 0., 0., 0.,\n",
       "       0., 0., 0., 0., 0., 0., 0., 0., 0., 0., 0., 1., 0., 0., 0., 0., 0.,\n",
       "       0., 0., 0., 0., 0., 0., 0., 0., 0., 0., 0., 0., 0., 0., 0., 0., 0.,\n",
       "       0., 0., 0., 0., 0., 0., 0., 0., 0., 0., 0., 0., 0., 0., 0., 0., 0.,\n",
       "       0., 0., 0., 0., 0., 1., 0., 0., 0., 0., 0., 0., 0., 0., 0., 0., 1.,\n",
       "       0., 0., 0., 0., 0., 0., 0., 0., 0., 0., 0., 0., 0., 0., 0., 0., 0.,\n",
       "       0., 0., 0., 0., 0., 0., 0., 0., 0., 0., 0., 0., 0., 0., 0., 0., 0.,\n",
       "       0., 0., 0., 0., 0., 1., 0., 0., 0., 0., 0., 0., 0., 0., 0., 0., 0.,\n",
       "       0., 0., 0., 0., 0., 0., 0., 0., 0., 0., 0., 0., 0., 0., 0., 0., 0.,\n",
       "       0., 0., 0., 0., 0., 0., 0., 0., 0., 0., 0., 0., 0., 0., 0., 0., 0.,\n",
       "       0., 0., 0., 0., 0., 0., 0., 0., 0., 0., 0., 0., 0., 0., 0., 0., 0.,\n",
       "       0., 0., 0., 0., 0., 0., 0., 0., 0., 0., 0., 0., 0., 0., 0., 0., 0.,\n",
       "       0., 0., 0., 0., 0., 0.], dtype=float32)"
      ]
     },
     "execution_count": 14,
     "metadata": {},
     "output_type": "execute_result"
    }
   ],
   "source": [
    "x_test[89]"
   ]
  },
  {
   "cell_type": "code",
   "execution_count": 15,
   "id": "ccfcf2f5",
   "metadata": {},
   "outputs": [
    {
     "name": "stdout",
     "output_type": "stream",
     "text": [
      "Epoch 1/50\n",
      "20/20 [==============================] - 1s 26ms/step - loss: 0.6035 - accuracy: 0.4994 - val_loss: 0.5852 - val_accuracy: 0.5396\n",
      "Epoch 2/50\n",
      "20/20 [==============================] - 0s 15ms/step - loss: 0.5858 - accuracy: 0.5404 - val_loss: 0.5841 - val_accuracy: 0.5396\n",
      "Epoch 3/50\n",
      "20/20 [==============================] - 0s 15ms/step - loss: 0.5850 - accuracy: 0.5404 - val_loss: 0.5840 - val_accuracy: 0.5396\n",
      "Epoch 4/50\n",
      "20/20 [==============================] - 0s 14ms/step - loss: 0.5851 - accuracy: 0.5404 - val_loss: 0.5837 - val_accuracy: 0.5396\n",
      "Epoch 5/50\n",
      "20/20 [==============================] - 0s 18ms/step - loss: 0.5845 - accuracy: 0.5404 - val_loss: 0.5822 - val_accuracy: 0.5396\n",
      "Epoch 6/50\n",
      "20/20 [==============================] - 0s 16ms/step - loss: 0.5823 - accuracy: 0.5404 - val_loss: 0.5790 - val_accuracy: 0.5396\n",
      "Epoch 7/50\n",
      "20/20 [==============================] - 0s 19ms/step - loss: 0.5748 - accuracy: 0.5404 - val_loss: 0.5642 - val_accuracy: 0.5396\n",
      "Epoch 8/50\n",
      "20/20 [==============================] - 0s 16ms/step - loss: 0.5435 - accuracy: 0.5832 - val_loss: 0.5189 - val_accuracy: 0.6403\n",
      "Epoch 9/50\n",
      "20/20 [==============================] - 0s 15ms/step - loss: 0.5004 - accuracy: 0.6378 - val_loss: 0.4937 - val_accuracy: 0.6489\n",
      "Epoch 10/50\n",
      "20/20 [==============================] - 0s 16ms/step - loss: 0.4794 - accuracy: 0.6568 - val_loss: 0.4775 - val_accuracy: 0.6610\n",
      "Epoch 11/50\n",
      "20/20 [==============================] - 0s 15ms/step - loss: 0.4640 - accuracy: 0.6692 - val_loss: 0.4630 - val_accuracy: 0.6679\n",
      "Epoch 12/50\n",
      "20/20 [==============================] - 0s 15ms/step - loss: 0.4474 - accuracy: 0.6830 - val_loss: 0.4440 - val_accuracy: 0.6846\n",
      "Epoch 13/50\n",
      "20/20 [==============================] - 0s 16ms/step - loss: 0.4281 - accuracy: 0.7072 - val_loss: 0.4272 - val_accuracy: 0.7278\n",
      "Epoch 14/50\n",
      "20/20 [==============================] - 0s 22ms/step - loss: 0.4129 - accuracy: 0.7315 - val_loss: 0.4150 - val_accuracy: 0.7309\n",
      "Epoch 15/50\n",
      "20/20 [==============================] - 0s 15ms/step - loss: 0.4032 - accuracy: 0.7428 - val_loss: 0.4093 - val_accuracy: 0.7338\n",
      "Epoch 16/50\n",
      "20/20 [==============================] - 0s 21ms/step - loss: 0.3964 - accuracy: 0.7492 - val_loss: 0.3984 - val_accuracy: 0.7479\n",
      "Epoch 17/50\n",
      "20/20 [==============================] - 0s 16ms/step - loss: 0.3894 - accuracy: 0.7560 - val_loss: 0.3934 - val_accuracy: 0.7557\n",
      "Epoch 18/50\n",
      "20/20 [==============================] - 0s 15ms/step - loss: 0.3852 - accuracy: 0.7603 - val_loss: 0.3915 - val_accuracy: 0.7577\n",
      "Epoch 19/50\n",
      "20/20 [==============================] - 0s 18ms/step - loss: 0.3816 - accuracy: 0.7663 - val_loss: 0.3870 - val_accuracy: 0.7643\n",
      "Epoch 20/50\n",
      "20/20 [==============================] - 0s 19ms/step - loss: 0.3786 - accuracy: 0.7710 - val_loss: 0.3840 - val_accuracy: 0.7729\n",
      "Epoch 21/50\n",
      "20/20 [==============================] - 0s 15ms/step - loss: 0.3754 - accuracy: 0.7736 - val_loss: 0.3818 - val_accuracy: 0.7727\n",
      "Epoch 22/50\n",
      "20/20 [==============================] - 0s 19ms/step - loss: 0.3734 - accuracy: 0.7773 - val_loss: 0.3790 - val_accuracy: 0.7732\n",
      "Epoch 23/50\n",
      "20/20 [==============================] - 0s 16ms/step - loss: 0.3706 - accuracy: 0.7812 - val_loss: 0.3766 - val_accuracy: 0.7793\n",
      "Epoch 24/50\n",
      "20/20 [==============================] - 0s 17ms/step - loss: 0.3689 - accuracy: 0.7808 - val_loss: 0.3762 - val_accuracy: 0.7781\n",
      "Epoch 25/50\n",
      "20/20 [==============================] - 0s 19ms/step - loss: 0.3690 - accuracy: 0.7804 - val_loss: 0.3758 - val_accuracy: 0.7781\n",
      "Epoch 26/50\n",
      "20/20 [==============================] - 0s 15ms/step - loss: 0.3666 - accuracy: 0.7832 - val_loss: 0.3734 - val_accuracy: 0.7781\n",
      "Epoch 27/50\n",
      "20/20 [==============================] - 0s 16ms/step - loss: 0.3641 - accuracy: 0.7853 - val_loss: 0.3712 - val_accuracy: 0.7796\n",
      "Epoch 28/50\n",
      "20/20 [==============================] - 0s 18ms/step - loss: 0.3622 - accuracy: 0.7880 - val_loss: 0.3709 - val_accuracy: 0.7822\n",
      "Epoch 29/50\n",
      "20/20 [==============================] - 0s 17ms/step - loss: 0.3606 - accuracy: 0.7887 - val_loss: 0.3686 - val_accuracy: 0.7847\n",
      "Epoch 30/50\n",
      "20/20 [==============================] - 0s 14ms/step - loss: 0.3600 - accuracy: 0.7892 - val_loss: 0.3672 - val_accuracy: 0.7819\n",
      "Epoch 31/50\n",
      "20/20 [==============================] - 0s 16ms/step - loss: 0.3612 - accuracy: 0.7872 - val_loss: 0.3694 - val_accuracy: 0.7778\n",
      "Epoch 32/50\n",
      "20/20 [==============================] - 0s 18ms/step - loss: 0.3575 - accuracy: 0.7910 - val_loss: 0.3672 - val_accuracy: 0.7865\n",
      "Epoch 33/50\n",
      "20/20 [==============================] - 0s 16ms/step - loss: 0.3563 - accuracy: 0.7920 - val_loss: 0.3664 - val_accuracy: 0.7868\n",
      "Epoch 34/50\n",
      "20/20 [==============================] - 0s 14ms/step - loss: 0.3552 - accuracy: 0.7914 - val_loss: 0.3648 - val_accuracy: 0.7830\n",
      "Epoch 35/50\n",
      "20/20 [==============================] - 0s 15ms/step - loss: 0.3534 - accuracy: 0.7943 - val_loss: 0.3650 - val_accuracy: 0.7865\n",
      "Epoch 36/50\n",
      "20/20 [==============================] - 0s 15ms/step - loss: 0.3528 - accuracy: 0.7935 - val_loss: 0.3623 - val_accuracy: 0.7899\n",
      "Epoch 37/50\n",
      "20/20 [==============================] - 0s 17ms/step - loss: 0.3518 - accuracy: 0.7926 - val_loss: 0.3640 - val_accuracy: 0.7879\n",
      "Epoch 38/50\n",
      "20/20 [==============================] - 0s 13ms/step - loss: 0.3513 - accuracy: 0.7958 - val_loss: 0.3626 - val_accuracy: 0.7862\n",
      "Epoch 39/50\n",
      "20/20 [==============================] - 0s 17ms/step - loss: 0.3496 - accuracy: 0.7962 - val_loss: 0.3600 - val_accuracy: 0.7894\n",
      "Epoch 40/50\n",
      "20/20 [==============================] - 0s 17ms/step - loss: 0.3492 - accuracy: 0.7953 - val_loss: 0.3594 - val_accuracy: 0.7896\n",
      "Epoch 41/50\n",
      "20/20 [==============================] - 0s 16ms/step - loss: 0.3477 - accuracy: 0.7969 - val_loss: 0.3590 - val_accuracy: 0.7911\n",
      "Epoch 42/50\n",
      "20/20 [==============================] - 0s 15ms/step - loss: 0.3468 - accuracy: 0.7979 - val_loss: 0.3592 - val_accuracy: 0.7873\n",
      "Epoch 43/50\n",
      "20/20 [==============================] - 0s 21ms/step - loss: 0.3459 - accuracy: 0.8004 - val_loss: 0.3575 - val_accuracy: 0.7914\n",
      "Epoch 44/50\n",
      "20/20 [==============================] - 0s 19ms/step - loss: 0.3450 - accuracy: 0.8010 - val_loss: 0.3584 - val_accuracy: 0.7885\n",
      "Epoch 45/50\n",
      "20/20 [==============================] - 0s 17ms/step - loss: 0.3450 - accuracy: 0.7980 - val_loss: 0.3552 - val_accuracy: 0.7931\n",
      "Epoch 46/50\n",
      "20/20 [==============================] - 0s 19ms/step - loss: 0.3434 - accuracy: 0.8011 - val_loss: 0.3545 - val_accuracy: 0.7928\n",
      "Epoch 47/50\n",
      "20/20 [==============================] - 0s 18ms/step - loss: 0.3420 - accuracy: 0.8032 - val_loss: 0.3539 - val_accuracy: 0.7925\n",
      "Epoch 48/50\n",
      "20/20 [==============================] - 0s 17ms/step - loss: 0.3406 - accuracy: 0.8040 - val_loss: 0.3527 - val_accuracy: 0.7963\n",
      "Epoch 49/50\n",
      "20/20 [==============================] - 0s 15ms/step - loss: 0.3397 - accuracy: 0.8031 - val_loss: 0.3562 - val_accuracy: 0.7931\n",
      "Epoch 50/50\n",
      "20/20 [==============================] - 0s 18ms/step - loss: 0.3390 - accuracy: 0.8037 - val_loss: 0.3517 - val_accuracy: 0.7942\n"
     ]
    },
    {
     "data": {
      "text/plain": [
       "<keras.callbacks.History at 0x1484a24d0>"
      ]
     },
     "execution_count": 15,
     "metadata": {},
     "output_type": "execute_result"
    }
   ],
   "source": [
    "network.fit(x_train, y_train, epochs=50,verbose=1, batch_size=1000, validation_data=(x_test, y_test))"
   ]
  },
  {
   "cell_type": "code",
   "execution_count": 18,
   "id": "1373a882",
   "metadata": {},
   "outputs": [],
   "source": [
    "words=['hello','café','bonheur','Hola','Gracias']"
   ]
  },
  {
   "cell_type": "code",
   "execution_count": 28,
   "id": "562f202e",
   "metadata": {},
   "outputs": [],
   "source": [
    "def RESULT(word):\n",
    "    a=0\n",
    "    b=1\n",
    "    while True:\n",
    "        a+=1\n",
    "        dic = []\n",
    "        valid = False\n",
    "        while not valid:\n",
    "            if len(word) <= max_letters:\n",
    "                word = word.lower()\n",
    "                valid = True\n",
    "            else:\n",
    "                print('Word must be less than ' + str(max_letters + 1) + ' letters long')\n",
    "        dic.append(word)\n",
    "        vct_str = VECTORIZATION(dic, max_letters)\n",
    "        vct = np.zeros((1, 26 * max_letters))\n",
    "        count = 0\n",
    "        for digit in vct_str[0]:\n",
    "            vct[0,count] = int(digit)\n",
    "            count += 1\n",
    "        prediction_vct = network.predict(vct)\n",
    "\n",
    "        langs = list(language_tags.keys())\n",
    "        for i in range(len(language_tags)):\n",
    "            lang = langs[i]\n",
    "            score = prediction_vct[0][i]\n",
    "            print(lang + ': ' + str(round(100*score, 2)) + '%')\n",
    "        if a==b:\n",
    "            break"
   ]
  },
  {
   "cell_type": "code",
   "execution_count": 30,
   "id": "1b6c6723",
   "metadata": {},
   "outputs": [
    {
     "name": "stdout",
     "output_type": "stream",
     "text": [
      "1\n",
      "1/1 [==============================] - 0s 19ms/step\n",
      "en: 2.16%\n",
      "es: 95.28%\n",
      "fr: 2.56%\n"
     ]
    }
   ],
   "source": [
    "RESULT('hello')"
   ]
  },
  {
   "cell_type": "code",
   "execution_count": 31,
   "id": "aca3e8cf",
   "metadata": {},
   "outputs": [
    {
     "name": "stdout",
     "output_type": "stream",
     "text": [
      "1\n",
      "1/1 [==============================] - 0s 20ms/step\n",
      "en: 2.65%\n",
      "es: 88.99%\n",
      "fr: 8.36%\n"
     ]
    }
   ],
   "source": [
    "RESULT('Gracias')"
   ]
  },
  {
   "cell_type": "code",
   "execution_count": 32,
   "id": "180192b8",
   "metadata": {},
   "outputs": [
    {
     "name": "stdout",
     "output_type": "stream",
     "text": [
      "1\n",
      "1/1 [==============================] - 0s 22ms/step\n",
      "en: 1.65%\n",
      "es: 0.97%\n",
      "fr: 97.38%\n"
     ]
    }
   ],
   "source": [
    "RESULT('bonheur')"
   ]
  },
  {
   "cell_type": "code",
   "execution_count": null,
   "id": "79202ab3",
   "metadata": {},
   "outputs": [],
   "source": []
  }
 ],
 "metadata": {
  "kernelspec": {
   "display_name": "Python 3 (ipykernel)",
   "language": "python",
   "name": "python3"
  },
  "language_info": {
   "codemirror_mode": {
    "name": "ipython",
    "version": 3
   },
   "file_extension": ".py",
   "mimetype": "text/x-python",
   "name": "python",
   "nbconvert_exporter": "python",
   "pygments_lexer": "ipython3",
   "version": "3.10.3"
  }
 },
 "nbformat": 4,
 "nbformat_minor": 5
}
