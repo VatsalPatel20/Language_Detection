{
 "cells": [
  {
   "cell_type": "code",
   "execution_count": 1,
   "id": "1b2912e1",
   "metadata": {},
   "outputs": [
    {
     "name": "stderr",
     "output_type": "stream",
     "text": [
      "/Library/Frameworks/Python.framework/Versions/3.10/lib/python3.10/site-packages/tqdm/auto.py:22: TqdmWarning: IProgress not found. Please update jupyter and ipywidgets. See https://ipywidgets.readthedocs.io/en/stable/user_install.html\n",
      "  from .autonotebook import tqdm as notebook_tqdm\n",
      "2022-10-29 23:18:22.663095: I tensorflow/core/platform/cpu_feature_guard.cc:193] This TensorFlow binary is optimized with oneAPI Deep Neural Network Library (oneDNN) to use the following CPU instructions in performance-critical operations:  AVX2 FMA\n",
      "To enable them in other operations, rebuild TensorFlow with the appropriate compiler flags.\n"
     ]
    }
   ],
   "source": [
    "import spacy"
   ]
  },
  {
   "cell_type": "code",
   "execution_count": 2,
   "id": "e6a969c4",
   "metadata": {},
   "outputs": [],
   "source": [
    "from spacy.language import Language"
   ]
  },
  {
   "cell_type": "code",
   "execution_count": 3,
   "id": "372bdbea",
   "metadata": {},
   "outputs": [],
   "source": [
    "from spacy_langdetect import LanguageDetector"
   ]
  },
  {
   "cell_type": "code",
   "execution_count": 4,
   "id": "81312135",
   "metadata": {},
   "outputs": [],
   "source": [
    "nlp=spacy.load('en_core_web_sm')"
   ]
  },
  {
   "cell_type": "code",
   "execution_count": 5,
   "id": "322a03ad",
   "metadata": {},
   "outputs": [],
   "source": [
    "def Function_adding(nlp,name):\n",
    "    return LanguageDetector()"
   ]
  },
  {
   "cell_type": "code",
   "execution_count": 6,
   "id": "180616a0",
   "metadata": {},
   "outputs": [
    {
     "name": "stdout",
     "output_type": "stream",
     "text": [
      "{'language': 'fr', 'score': 0.9999963332844145}\n"
     ]
    }
   ],
   "source": [
    "Language.factory(\"language_detector\",func=Function_adding)\n",
    "nlp.add_pipe(\"language_detector\",last=True)\n",
    "text1=\"bonjour comment vas-tu\"\n",
    "doc1=nlp(text1)\n",
    "print(doc1._.language)"
   ]
  },
  {
   "cell_type": "code",
   "execution_count": 7,
   "id": "d7651959",
   "metadata": {},
   "outputs": [],
   "source": [
    "def language_detector(text):\n",
    "    document=nlp(text)\n",
    "    return document._.language"
   ]
  },
  {
   "cell_type": "code",
   "execution_count": 10,
   "id": "a82ffb15",
   "metadata": {},
   "outputs": [],
   "source": [
    "List=[\"necesito crema boston y tambien crema cheed con begal\",\n",
    "     \"मुझे छूट के साथ चॉकलेट डिप और इंग्लिश मफिन चाहिए\",\n",
    "     \"مرحبًا ، أحتاج إلى دعم معنوي أشعر وكأنني ضائع\",\n",
    "      \"Je veux un muffin aux myrtilles et un muffin anglais avec un œuf grillé\",\n",
    "     \"cam i get free coffee i don't have money\"]"
   ]
  },
  {
   "cell_type": "code",
   "execution_count": 11,
   "id": "79d06954",
   "metadata": {
    "scrolled": true
   },
   "outputs": [
    {
     "name": "stdout",
     "output_type": "stream",
     "text": [
      "necesito crema boston y tambien crema cheed con begal\n",
      "{'language': 'es', 'score': 0.9999955408304811}\n",
      "\n",
      "\n",
      "मुझे छूट के साथ चॉकलेट डिप और इंग्लिश मफिन चाहिए\n",
      "{'language': 'hi', 'score': 0.9999962350538231}\n",
      "\n",
      "\n",
      "مرحبًا ، أحتاج إلى دعم معنوي أشعر وكأنني ضائع\n",
      "{'language': 'ar', 'score': 0.9999979694585319}\n",
      "\n",
      "\n",
      "Je veux un muffin aux myrtilles et un muffin anglais avec un œuf grillé\n",
      "{'language': 'fr', 'score': 0.9999956838369738}\n",
      "\n",
      "\n",
      "cam i get free coffee i don't have money\n",
      "{'language': 'en', 'score': 0.8571408363317301}\n",
      "\n",
      "\n"
     ]
    }
   ],
   "source": [
    "for language in List:\n",
    "    print(language)\n",
    "    print(language_detector(language))\n",
    "    print(\"\\n\")"
   ]
  },
  {
   "cell_type": "code",
   "execution_count": 12,
   "id": "7008dbc4",
   "metadata": {},
   "outputs": [
    {
     "name": "stdout",
     "output_type": "stream",
     "text": [
      "{'language': 'en', 'score': 0.9999967671987487}\n"
     ]
    }
   ],
   "source": [
    "#This model unable to predict two language at same time with accuracy which we can do it into fasttext\n",
    "Problem_language=\"bonjour comment vas-tu and also add small coffee with one sugar\"\n",
    "print(language_detector(Problem_language))"
   ]
  },
  {
   "cell_type": "code",
   "execution_count": null,
   "id": "8683730a",
   "metadata": {},
   "outputs": [],
   "source": []
  }
 ],
 "metadata": {
  "kernelspec": {
   "display_name": "Python 3 (ipykernel)",
   "language": "python",
   "name": "python3"
  },
  "language_info": {
   "codemirror_mode": {
    "name": "ipython",
    "version": 3
   },
   "file_extension": ".py",
   "mimetype": "text/x-python",
   "name": "python",
   "nbconvert_exporter": "python",
   "pygments_lexer": "ipython3",
   "version": "3.10.3"
  }
 },
 "nbformat": 4,
 "nbformat_minor": 5
}
