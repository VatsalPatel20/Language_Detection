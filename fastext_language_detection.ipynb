{
 "cells": [
  {
   "cell_type": "code",
   "execution_count": 1,
   "id": "8f19e235",
   "metadata": {},
   "outputs": [],
   "source": [
    "import fasttext"
   ]
  },
  {
   "cell_type": "code",
   "execution_count": 2,
   "id": "93c4be3c",
   "metadata": {},
   "outputs": [
    {
     "name": "stderr",
     "output_type": "stream",
     "text": [
      "Warning : `load_model` does not return WordVectorModel or SupervisedModel any more, but a `FastText` object which is very similar.\n"
     ]
    }
   ],
   "source": [
    "model=fasttext.load_model(\"/Users/vatsal/Desktop/lid.176.bin\")"
   ]
  },
  {
   "cell_type": "code",
   "execution_count": 3,
   "id": "9396665d",
   "metadata": {},
   "outputs": [],
   "source": [
    "#this list includes common slogan that every tim-hortons drive-thru gets such as can i get boston creme, i need large double-double in different languages\n",
    "list_launguage=['hello can I get boston creme with large dark roast with two creme one sugar',\n",
    "               \"j'ai besoin d'un croissant au chocolat et s'il vous plaît faites-le vite J'ai deux allers-retours et assurez-vous que mon café avec un double verre\",\n",
    "               \"quiero un muffin de arándanos y un muffin inglés con huevo tostado\"]"
   ]
  },
  {
   "cell_type": "code",
   "execution_count": 4,
   "id": "9a07e881",
   "metadata": {},
   "outputs": [
    {
     "name": "stdout",
     "output_type": "stream",
     "text": [
      "hello can I get boston creme with large dark roast with two creme one sugar\n",
      "(('__label__en',), array([0.91682792]))\n",
      "\n",
      "\n",
      "j'ai besoin d'un croissant au chocolat et s'il vous plaît faites-le vite J'ai deux allers-retours et assurez-vous que mon café avec un double verre\n",
      "(('__label__fr',), array([0.99943435]))\n",
      "\n",
      "\n",
      "quiero un muffin de arándanos y un muffin inglés con huevo tostado\n",
      "(('__label__es',), array([0.98901027]))\n",
      "\n",
      "\n"
     ]
    }
   ],
   "source": [
    "for language in list_launguage:\n",
    "    print(language)\n",
    "    print(model.predict(language))\n",
    "    print(\"\\n\")"
   ]
  },
  {
   "cell_type": "code",
   "execution_count": 5,
   "id": "c7b3d34b",
   "metadata": {},
   "outputs": [
    {
     "name": "stdout",
     "output_type": "stream",
     "text": [
      "(('__label__en', '__label__fr'), array([0.65917134, 0.16912055]))\n"
     ]
    }
   ],
   "source": [
    "Problem_language=\"bonjour comment vas-tu and also add small coffee with one sugar\"\n",
    "print(model.predict(Problem_language,k=2))"
   ]
  },
  {
   "cell_type": "code",
   "execution_count": null,
   "id": "e9eb33d8",
   "metadata": {},
   "outputs": [],
   "source": []
  }
 ],
 "metadata": {
  "kernelspec": {
   "display_name": "Python 3 (ipykernel)",
   "language": "python",
   "name": "python3"
  },
  "language_info": {
   "codemirror_mode": {
    "name": "ipython",
    "version": 3
   },
   "file_extension": ".py",
   "mimetype": "text/x-python",
   "name": "python",
   "nbconvert_exporter": "python",
   "pygments_lexer": "ipython3",
   "version": "3.10.3"
  }
 },
 "nbformat": 4,
 "nbformat_minor": 5
}
